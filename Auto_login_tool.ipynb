{
 "cells": [
  {
   "cell_type": "code",
   "execution_count": 1,
   "id": "3d492fc6",
   "metadata": {},
   "outputs": [],
   "source": [
    "from selenium import webdriver\n",
    "import time"
   ]
  },
  {
   "cell_type": "code",
   "execution_count": 2,
   "id": "7c8fea86",
   "metadata": {},
   "outputs": [],
   "source": [
    "browser = webdriver.Chrome(\"D:\\Chrome Driver\\chromedriver.exe\")\n",
    "\n",
    "browser.maximize_window()\n",
    "\n",
    "browser.get(\"https://www.hackveda.in/one2one\")\n",
    "time.sleep(2)"
   ]
  },
  {
   "cell_type": "code",
   "execution_count": 3,
   "id": "1d35cc57",
   "metadata": {},
   "outputs": [
    {
     "data": {
      "text/plain": [
       "<selenium.webdriver.remote.webelement.WebElement (session=\"cb8afa3cf89045cab6779b0e518974b9\", element=\"65ff55a4-1753-409e-90b6-976cd5654e98\")>"
      ]
     },
     "execution_count": 3,
     "metadata": {},
     "output_type": "execute_result"
    }
   ],
   "source": [
    "username = browser.find_element_by_id(\"email\")\n",
    "username"
   ]
  },
  {
   "cell_type": "code",
   "execution_count": 4,
   "id": "38be7564",
   "metadata": {},
   "outputs": [],
   "source": [
    "username.send_keys(\"suyash.gupta1355@gmail.com\")\n",
    "time.sleep(2)"
   ]
  },
  {
   "cell_type": "code",
   "execution_count": 5,
   "id": "8b5849ad",
   "metadata": {},
   "outputs": [],
   "source": [
    "password = browser.find_element_by_id(\"password\")\n",
    "password.send_keys(\"19024116\")\n",
    "time.sleep(2)"
   ]
  },
  {
   "cell_type": "code",
   "execution_count": 6,
   "id": "0b04fb08",
   "metadata": {},
   "outputs": [],
   "source": [
    "button = browser.find_element_by_id(\"login_btn\")\n",
    "button.click()"
   ]
  },
  {
   "cell_type": "code",
   "execution_count": null,
   "id": "a8b8b93a",
   "metadata": {},
   "outputs": [],
   "source": []
  }
 ],
 "metadata": {
  "kernelspec": {
   "display_name": "Python 3 (ipykernel)",
   "language": "python",
   "name": "python3"
  },
  "language_info": {
   "codemirror_mode": {
    "name": "ipython",
    "version": 3
   },
   "file_extension": ".py",
   "mimetype": "text/x-python",
   "name": "python",
   "nbconvert_exporter": "python",
   "pygments_lexer": "ipython3",
   "version": "3.9.13"
  }
 },
 "nbformat": 4,
 "nbformat_minor": 5
}
