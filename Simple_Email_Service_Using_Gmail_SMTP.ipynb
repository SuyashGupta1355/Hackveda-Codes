{
 "cells": [
  {
   "cell_type": "code",
   "execution_count": 18,
   "id": "e640927c",
   "metadata": {},
   "outputs": [],
   "source": [
    "import smtplib\n",
    "from email.mime.multipart import MIMEMultipart\n",
    "from email.mime.text import MIMEText\n",
    "from email.mime.base import MIMEBase\n",
    "from email import encoders"
   ]
  },
  {
   "cell_type": "code",
   "execution_count": 19,
   "id": "270a7bae",
   "metadata": {},
   "outputs": [],
   "source": [
    "mail_content = \"\"\"Hello,\n",
    "This is a test mail.\n",
    "In this mail we are sending some attachments.\n",
    "The mail is sent using Python SMTP library.\n",
    "Thank You\n",
    "\"\"\"\n",
    "# The mail addresses and password\n",
    "sender_address = 'sg1155@srmist.edu.in'\n",
    "sender_pass = 'asdfghhjjkkl'\n",
    "receiver_address = 'anishjha989@gmail.com'\n",
    "\n",
    "# Setup the MIME\n",
    "message = MIMEMultipart()\n",
    "message['From'] = sender_address\n",
    "message['To'] = receiver_address\n",
    "message['Subject'] = 'A test mail sent by Python. It has an attachment.'\n"
   ]
  },
  {
   "cell_type": "code",
   "execution_count": null,
   "id": "db46963b",
   "metadata": {},
   "outputs": [],
   "source": [
    "# The subject line\n",
    "# The body and the attachments for the mail\n",
    "message.attach(MIMEText(mail_content, 'plain'))\n",
    "attach_file_name = '1st Experiment.pdf'\n",
    "attach_file = open(attach_file_name, 'rb')\n",
    "payload = MIMEBase('application', 'octate-stream')\n",
    "payload.set_payload((attach_file).read())\n",
    "encoders.encode_base64(payload)  # encode the attachment\n",
    "\n",
    "# add payload header with filename\n",
    "payload.add_header('Content-Decomposition', 'attachment', filename= '1st Experiment.pdf')\n",
    "message.attach(payload)"
   ]
  },
  {
   "cell_type": "code",
   "execution_count": null,
   "id": "d5a28d00",
   "metadata": {},
   "outputs": [],
   "source": [
    "# Create SMTP session for sending the mail\n",
    "session = smtplib.SMTP('smtp.gmail.com', 587) # use gmail with port\n",
    "session.starttls() # enable security\n",
    "session.login(sender_address, sender_pass) # login with mail_id and ppassword\n",
    "text = message.as_string()\n",
    "session.sendmail(sender_address, receiver_address, text)\n",
    "session.quit()\n",
    "print('Mail Sent')"
   ]
  },
  {
   "cell_type": "code",
   "execution_count": null,
   "id": "2c1a2399",
   "metadata": {},
   "outputs": [],
   "source": []
  },
  {
   "cell_type": "code",
   "execution_count": null,
   "id": "6fff3d81",
   "metadata": {},
   "outputs": [],
   "source": []
  }
 ],
 "metadata": {
  "kernelspec": {
   "display_name": "Python 3 (ipykernel)",
   "language": "python",
   "name": "python3"
  },
  "language_info": {
   "codemirror_mode": {
    "name": "ipython",
    "version": 3
   },
   "file_extension": ".py",
   "mimetype": "text/x-python",
   "name": "python",
   "nbconvert_exporter": "python",
   "pygments_lexer": "ipython3",
   "version": "3.9.13"
  }
 },
 "nbformat": 4,
 "nbformat_minor": 5
}
